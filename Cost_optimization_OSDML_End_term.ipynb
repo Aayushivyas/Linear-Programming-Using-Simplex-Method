{
  "cells": [
    {
      "cell_type": "code",
      "execution_count": null,
      "id": "9c270d8c",
      "metadata": {
        "id": "9c270d8c"
      },
      "outputs": [],
      "source": [
        "import numpy as np\n",
        "from gekko import GEKKO\n",
        "import pandas as pd"
      ]
    },
    {
      "cell_type": "markdown",
      "id": "a9aab2ea",
      "metadata": {
        "id": "a9aab2ea"
      },
      "source": [
        "Initialization of Data Parameters"
      ]
    },
    {
      "cell_type": "code",
      "execution_count": null,
      "id": "090ef0ed",
      "metadata": {
        "id": "090ef0ed"
      },
      "outputs": [],
      "source": [
        "production = {\n",
        "    1: {'Spinach': 500, 'Tomatoes': 650, 'Carrots': 400},\n",
        "    2: {'Spinach': 450, 'Tomatoes': 580, 'Carrots': 400},\n",
        "    3: {'Spinach': 470, 'Tomatoes': 700, 'Carrots': 410}\n",
        "}\n",
        "demand = {\n",
        "    1: {'Spinach': {'A': (100, 200), 'B': (80, 150), 'C': (50, 90)},\n",
        "        'Tomatoes': {'A': (150, 300), 'B': (100,200), 'C': (80,160)},\n",
        "        'Carrots': {'A': (50,100), 'B': (70,140), 'C': (40,90)}},\n",
        "\n",
        "    2: {'Spinach': {'A': (110,190), 'B': (90,150), 'C': (55,95)},\n",
        "        'Tomatoes': {'A': (160,310), 'B': (120,220), 'C': (100,170)},\n",
        "        'Carrots': {'A': (60,120), 'B': (70,160), 'C': (40,95)}},\n",
        "\n",
        "    3: {'Spinach': {'A': (100,180), 'B': (100,140), 'C': (92.5,85)},\n",
        "        'Tomatoes': {'A': (140,290), 'B': (120,200), 'C': (110,165)},\n",
        "        'Carrots': {'A': (80,110), 'B': (140,160), 'C': (50,100)}}\n",
        "}"
      ]
    },
    {
      "cell_type": "code",
      "execution_count": null,
      "id": "ff26f8cf",
      "metadata": {
        "id": "ff26f8cf"
      },
      "outputs": [],
      "source": [
        "cost = {\n",
        "    1: {\n",
        "        'Spinach': {'A': 0.30, 'B': 0.35, 'C': 0.45},\n",
        "        'Tomatoes': {'A': 0.25, 'B': 0.40, 'C': 0.45},\n",
        "        'Carrots': {'A': 0.20, 'B': 0.25, 'C': 0.45},\n",
        "    },\n",
        "    2: {\n",
        "        'Spinach': {'A': 0.32, 'B': 0.36, 'C': 0.21},\n",
        "        'Tomatoes': {'A': 0.28, 'B': 0.42, 'C': 0.48},\n",
        "        'Carrots': {'A': 0.20, 'B': 0.26, 'C': 0.47},\n",
        "    },\n",
        "    3: {\n",
        "        'Spinach': {'A': 0.30, 'B': 0.38, 'C': 0.46},\n",
        "        'Tomatoes': {'A': 0.26, 'B': 0.39, 'C': 0.46},\n",
        "        'Carrots': {'A': 0.21, 'B': 0.25, 'C': 0.45},\n",
        "    }\n",
        "}\n",
        "\n"
      ]
    },
    {
      "cell_type": "markdown",
      "id": "afb5848f",
      "metadata": {
        "id": "afb5848f"
      },
      "source": [
        "#### Decision Variables\n",
        " Decision will be summation of vegetables & Hubs\n",
        "Representation"
      ]
    },
    {
      "cell_type": "code",
      "execution_count": null,
      "id": "3f69ab6d",
      "metadata": {
        "id": "3f69ab6d",
        "outputId": "d3cc10ae-9221-4f22-d7f0-c9d09e7243c2"
      },
      "outputs": [
        {
          "name": "stdout",
          "output_type": "stream",
          "text": [
            "Week 1: Total Cost = 239.49942746899998\n",
            "Week 2: Total Cost = 271.34945507\n",
            "Week 3: Total Cost = 316.92445758915\n"
          ]
        }
      ],
      "source": [
        "results = {}\n",
        "\n",
        "for t in range(1,4):\n",
        "    m = GEKKO(remote=False)\n",
        "    V = ['Spinach', 'Tomatoes', 'Carrots']\n",
        "    H = ['A', 'B', 'C']\n",
        "    # Define variables in one line\n",
        "    x = {(v, h): m.Var(lb=0) for v in V for h in H} # Create combination of vegetable and Hubs 3*3 variables\n",
        "\n",
        "   #Production constraints\n",
        "    [m.Equation(sum(x[v, h] for h in H) <= production[t][v]) for v in V]\n",
        "    #adding slack constraints for demand\n",
        "    #slack variables for under and over production\n",
        "    slack_under = {(v, h): m.Var(lb=0) for v in V for h in H}\n",
        "    slack_over  = {(v, h): m.Var(lb=0) for v in V for h in H}\n",
        "\n",
        "    #Demand constraints\n",
        "    #adding slack variables to the demand constraints to allow for under and over production\n",
        "    for v in V:\n",
        "        for h in H:\n",
        "            m.Equation(x[v, h] + slack_under[v, h] >= demand[t][v][h][0])\n",
        "            m.Equation(x[v, h] - slack_over[v, h]  <= demand[t][v][h][1])\n",
        "\n",
        "    penalty = sum(slack_under[v, h]**2 + slack_over[v, h]**2 for v in V for h in H)\n",
        "    #Objective function+penalty\n",
        "    #minimize the total cost of production and the penalty for under and over production\n",
        "    m.Obj(sum(x[v, h] * cost[t][v][h] for v in V for h in H)+1000*penalty)\n",
        "    m.solve(disp=False)\n",
        "    total_cost = sum(x[v, h].value[0] * cost[t][v][h] for v in V for h in H)\n",
        "\n",
        "    print(f\"Week {t}: Total Cost = {total_cost}\")\n",
        "    results[t] = {\n",
        "        'total_cost': total_cost,\n",
        "        'orders': { (v, h): x[v, h].value[0] for v in V for h in H }\n",
        "    }\n"
      ]
    },
    {
      "cell_type": "code",
      "execution_count": null,
      "id": "bb663282",
      "metadata": {
        "id": "bb663282",
        "outputId": "b0f368ba-dfa1-475e-9384-ba309555d880"
      },
      "outputs": [
        {
          "name": "stdout",
          "output_type": "stream",
          "text": [
            "99.99849999 79.99824999 49.99774999\n",
            "149.99874999 99.99799999 79.99774999\n",
            "49.99899999 69.99874999 39.99774999\n"
          ]
        }
      ],
      "source": [
        "print(results[1]['orders'][('Spinach', 'A')], results[1]['orders'][('Spinach', 'B')], results[1]['orders'][('Spinach', 'C')])\n",
        "print(results[1]['orders'][('Tomatoes', 'A')], results[1]['orders'][('Tomatoes', 'B')], results[1]['orders'][('Tomatoes', 'C')])\n",
        "print(results[1]['orders'][('Carrots', 'A')], results[1]['orders'][('Carrots', 'B')], results[1]['orders'][('Carrots', 'C')])"
      ]
    },
    {
      "cell_type": "code",
      "execution_count": null,
      "id": "63db850e",
      "metadata": {
        "id": "63db850e",
        "outputId": "4a2cb5f9-dca9-4e9e-b94b-8067fb5afa40"
      },
      "outputs": [
        {
          "data": {
            "text/plain": [
              "{1: {'total_cost': 239.49942746899998,\n",
              "  'orders': {('Spinach', 'A'): 99.99984999,\n",
              "   ('Spinach', 'B'): 79.99982499,\n",
              "   ('Spinach', 'C'): 49.99977499,\n",
              "   ('Tomatoes', 'A'): 149.99987499,\n",
              "   ('Tomatoes', 'B'): 99.99979999,\n",
              "   ('Tomatoes', 'C'): 79.99977499,\n",
              "   ('Carrots', 'A'): 49.99989999,\n",
              "   ('Carrots', 'B'): 69.99987499,\n",
              "   ('Carrots', 'C'): 39.99977499}},\n",
              " 2: {'total_cost': 271.34945507,\n",
              "  'orders': {('Spinach', 'A'): 109.99983999,\n",
              "   ('Spinach', 'B'): 89.99981999,\n",
              "   ('Spinach', 'C'): 54.99989499,\n",
              "   ('Tomatoes', 'A'): 159.99985999,\n",
              "   ('Tomatoes', 'B'): 119.99978999,\n",
              "   ('Tomatoes', 'C'): 99.99975999,\n",
              "   ('Carrots', 'A'): 59.99989999,\n",
              "   ('Carrots', 'B'): 69.99986999,\n",
              "   ('Carrots', 'C'): 39.99976499}},\n",
              " 3: {'total_cost': 316.92445758915,\n",
              "  'orders': {('Spinach', 'A'): 99.999849988,\n",
              "   ('Spinach', 'B'): 99.99980999,\n",
              "   ('Spinach', 'C'): 88.749885,\n",
              "   ('Tomatoes', 'A'): 139.99986998,\n",
              "   ('Tomatoes', 'B'): 119.99980499,\n",
              "   ('Tomatoes', 'C'): 109.99976999,\n",
              "   ('Carrots', 'A'): 79.999894975,\n",
              "   ('Carrots', 'B'): 139.99986668,\n",
              "   ('Carrots', 'C'): 49.99977499}}}"
            ]
          },
          "execution_count": 77,
          "metadata": {},
          "output_type": "execute_result"
        }
      ],
      "source": [
        "results"
      ]
    },
    {
      "cell_type": "code",
      "execution_count": null,
      "id": "5cb1179a",
      "metadata": {
        "id": "5cb1179a"
      },
      "outputs": [],
      "source": [
        "records = []\n",
        "for week, data in results.items():\n",
        "    for (v, h), order in data['orders'].items():\n",
        "        records.append({\n",
        "            'Week': week,\n",
        "            'Hub': h,\n",
        "            'Vegetable': v,\n",
        "            'Order': order,\n",
        "            'Total Cost': data['total_cost']\n",
        "        })\n",
        "df = pd.DataFrame(records)"
      ]
    },
    {
      "cell_type": "code",
      "execution_count": null,
      "id": "a52f47d5",
      "metadata": {
        "id": "a52f47d5",
        "outputId": "a62c25b0-8376-4300-d778-e9816ccdd720"
      },
      "outputs": [
        {
          "data": {
            "text/plain": [
              "Vegetable\n",
              "Carrots     39.999775\n",
              "Spinach     49.999775\n",
              "Tomatoes    79.999775\n",
              "Name: Order, dtype: float64"
            ]
          },
          "execution_count": 79,
          "metadata": {},
          "output_type": "execute_result"
        }
      ],
      "source": [
        "df[(df['Hub']=='C')& (df['Week']==1)].groupby('Vegetable')['Order'].sum()"
      ]
    },
    {
      "cell_type": "code",
      "execution_count": null,
      "id": "5fb07369",
      "metadata": {
        "id": "5fb07369",
        "outputId": "3b66299a-6a62-42b8-a5ea-99494f248738"
      },
      "outputs": [
        {
          "data": {
            "text/html": [
              "<div>\n",
              "<style scoped>\n",
              "    .dataframe tbody tr th:only-of-type {\n",
              "        vertical-align: middle;\n",
              "    }\n",
              "\n",
              "    .dataframe tbody tr th {\n",
              "        vertical-align: top;\n",
              "    }\n",
              "\n",
              "    .dataframe thead th {\n",
              "        text-align: right;\n",
              "    }\n",
              "</style>\n",
              "<table border=\"1\" class=\"dataframe\">\n",
              "  <thead>\n",
              "    <tr style=\"text-align: right;\">\n",
              "      <th></th>\n",
              "      <th>Week</th>\n",
              "      <th>Total Cost</th>\n",
              "      <th>Count</th>\n",
              "    </tr>\n",
              "  </thead>\n",
              "  <tbody>\n",
              "    <tr>\n",
              "      <th>0</th>\n",
              "      <td>1</td>\n",
              "      <td>239.494275</td>\n",
              "      <td>9</td>\n",
              "    </tr>\n",
              "    <tr>\n",
              "      <th>1</th>\n",
              "      <td>2</td>\n",
              "      <td>271.344551</td>\n",
              "      <td>9</td>\n",
              "    </tr>\n",
              "    <tr>\n",
              "      <th>2</th>\n",
              "      <td>3</td>\n",
              "      <td>316.919597</td>\n",
              "      <td>9</td>\n",
              "    </tr>\n",
              "  </tbody>\n",
              "</table>\n",
              "</div>"
            ],
            "text/plain": [
              "   Week  Total Cost  Count\n",
              "0     1  239.494275      9\n",
              "1     2  271.344551      9\n",
              "2     3  316.919597      9"
            ]
          },
          "execution_count": 75,
          "metadata": {},
          "output_type": "execute_result"
        }
      ],
      "source": [
        "df.groupby(['Week','Total Cost']).agg(Count=(\"Order\", \"count\")).reset_index() #3 hubs and 3 vegetables that's why 9 orders"
      ]
    },
    {
      "cell_type": "markdown",
      "id": "425dc757",
      "metadata": {
        "id": "425dc757"
      },
      "source": [
        "### Sensitivity analysis"
      ]
    },
    {
      "cell_type": "code",
      "execution_count": null,
      "id": "ec397675",
      "metadata": {
        "id": "ec397675"
      },
      "outputs": [],
      "source": [
        "demand_modified = {\n",
        "    1: {'Spinach': {'A': (100, 200), 'B': (80, 150), 'C': (50, 90)},\n",
        "        'Tomatoes': {'A': (150, 300), 'B': (100,200), 'C': (80,160)},\n",
        "        'Carrots': {'A': (50,100), 'B': (70,140), 'C': (40,90)}},\n",
        "\n",
        "    2: {'Spinach': {'A': (100,190), 'B': (90,150), 'C': (55,95)},\n",
        "        'Tomatoes': {'A': (160,310), 'B': (120,220), 'C': (100,170)},\n",
        "        'Carrots': {'A': (60,120), 'B': (70,160), 'C': (40,95)}},\n",
        "\n",
        "    3: {'Spinach': {'A': (100,180), 'B': (100,140), 'C': (92.5,85)},\n",
        "        'Tomatoes': {'A': (140,290), 'B': (120,200), 'C': (110,165)},\n",
        "        'Carrots': {'A': (80,110), 'B': (140,160), 'C': (50,100)}}\n",
        "} #Changed the demand for week 2 Spinach A from (110,190) to (100,190)"
      ]
    },
    {
      "cell_type": "code",
      "execution_count": null,
      "id": "05572a27",
      "metadata": {
        "id": "05572a27",
        "outputId": "0905fc4f-7716-46d9-d9a3-029a1509f258"
      },
      "outputs": [
        {
          "name": "stdout",
          "output_type": "stream",
          "text": [
            "Week 1: Total Cost = 239.49994257825\n",
            "Week 2: Total Cost = 268.14994546078003\n",
            "Week 3: Total Cost = 316.92486578095\n"
          ]
        }
      ],
      "source": [
        "results = {}\n",
        "\n",
        "for t in range(1,4):\n",
        "    m = GEKKO(remote=False)\n",
        "    V = ['Spinach', 'Tomatoes', 'Carrots']\n",
        "    H = ['A', 'B', 'C']\n",
        "    # Define variables in one line\n",
        "    x = {(v, h): m.Var(lb=0) for v in V for h in H} # Create combination of vegetable and Hubs 3*3 variables\n",
        "\n",
        "   #Production constraints\n",
        "    [m.Equation(sum(x[v, h] for h in H) <= production[t][v]) for v in V]\n",
        "    #adding slack constraints for demand\n",
        "    #slack variables for under and over production\n",
        "    slack_under = {(v, h): m.Var(lb=0) for v in V for h in H}\n",
        "    slack_over  = {(v, h): m.Var(lb=0) for v in V for h in H}\n",
        "\n",
        "    #Demand constraints\n",
        "    #adding slack variables to the demand constraints to allow for under and over production\n",
        "    for v in V:\n",
        "        for h in H:\n",
        "            m.Equation(x[v, h] + slack_under[v, h] >= demand_modified[t][v][h][0])\n",
        "            m.Equation(x[v, h] - slack_over[v, h]  <= demand_modified[t][v][h][1])\n",
        "\n",
        "    penalty = sum(slack_under[v, h]**2 + slack_over[v, h]**2 for v in V for h in H)\n",
        "    #Objective function+penalty\n",
        "    #minimize the total cost of production and the penalty for under and over production\n",
        "    m.Obj(sum(x[v, h] * cost[t][v][h] for v in V for h in H)+10000*penalty)\n",
        "    m.solve(disp=False)\n",
        "    total_cost = sum(x[v, h].value[0] * cost[t][v][h] for v in V for h in H)\n",
        "\n",
        "    print(f\"Week {t}: Total Cost = {total_cost}\")\n",
        "    results[t] = {\n",
        "        'total_cost': total_cost,\n",
        "        'orders': { (v, h): x[v, h].value[0] for v in V for h in H }\n",
        "    }\n"
      ]
    },
    {
      "cell_type": "code",
      "execution_count": null,
      "id": "e06cf6d5",
      "metadata": {
        "id": "e06cf6d5",
        "outputId": "c1102f79-41b7-4077-934f-9b0e528919a5"
      },
      "outputs": [
        {
          "data": {
            "text/plain": [
              "{1: {'total_cost': 239.49994257825,\n",
              "  'orders': {('Spinach', 'A'): 99.999984935,\n",
              "   ('Spinach', 'B'): 79.999982465,\n",
              "   ('Spinach', 'C'): 49.999977485,\n",
              "   ('Tomatoes', 'A'): 149.99998738,\n",
              "   ('Tomatoes', 'B'): 99.99997998,\n",
              "   ('Tomatoes', 'C'): 79.999977485,\n",
              "   ('Carrots', 'A'): 49.999989755,\n",
              "   ('Carrots', 'B'): 69.999987369,\n",
              "   ('Carrots', 'C'): 39.999977485}},\n",
              " 2: {'total_cost': 271.34994546121004,\n",
              "  'orders': {('Spinach', 'A'): 109.99998399,\n",
              "   ('Spinach', 'B'): 89.999981989,\n",
              "   ('Spinach', 'C'): 54.999989461,\n",
              "   ('Tomatoes', 'A'): 159.99998598,\n",
              "   ('Tomatoes', 'B'): 119.99997899,\n",
              "   ('Tomatoes', 'C'): 99.99997599,\n",
              "   ('Carrots', 'A'): 59.999989954,\n",
              "   ('Carrots', 'B'): 69.999986981,\n",
              "   ('Carrots', 'C'): 39.99997649}},\n",
              " 3: {'total_cost': 316.92486249997,\n",
              "  'orders': {('Spinach', 'A'): 99.999954485,\n",
              "   ('Spinach', 'B'): 99.999952235,\n",
              "   ('Spinach', 'C'): 88.7499885,\n",
              "   ('Tomatoes', 'A'): 139.99995551,\n",
              "   ('Tomatoes', 'B'): 119.99995185,\n",
              "   ('Tomatoes', 'C'): 109.99994979,\n",
              "   ('Carrots', 'A'): 79.999935642,\n",
              "   ('Carrots', 'B'): 139.99995599,\n",
              "   ('Carrots', 'C'): 49.999950123}}}"
            ]
          },
          "execution_count": 94,
          "metadata": {},
          "output_type": "execute_result"
        }
      ],
      "source": [
        "results"
      ]
    },
    {
      "cell_type": "code",
      "execution_count": null,
      "id": "eb19ba50",
      "metadata": {
        "id": "eb19ba50"
      },
      "outputs": [],
      "source": [
        "records = []\n",
        "for week, data in results.items():\n",
        "    for (v, h), order in data['orders'].items():\n",
        "        records.append({\n",
        "            'Week': week,\n",
        "            'Hub': h,\n",
        "            'Vegetable': v,\n",
        "            'Order': order,\n",
        "            'Total Cost': data['total_cost']\n",
        "        })\n",
        "df_modified = pd.DataFrame(records)"
      ]
    },
    {
      "cell_type": "code",
      "execution_count": null,
      "id": "fa6d5268",
      "metadata": {
        "id": "fa6d5268",
        "outputId": "a87b2519-da42-4c21-b1a6-1bbdd262e832"
      },
      "outputs": [
        {
          "data": {
            "text/plain": [
              "Vegetable\n",
              "Carrots      59.999990\n",
              "Spinach      99.999984\n",
              "Tomatoes    159.999986\n",
              "Name: Order, dtype: float64"
            ]
          },
          "execution_count": 101,
          "metadata": {},
          "output_type": "execute_result"
        }
      ],
      "source": [
        "df_modified[(df_modified['Hub']=='A')& (df_modified['Week']==2)].groupby('Vegetable')['Order'].sum()"
      ]
    },
    {
      "cell_type": "code",
      "execution_count": null,
      "id": "9c150285",
      "metadata": {
        "id": "9c150285",
        "outputId": "4416d710-5467-4f86-afae-0befec56b313"
      },
      "outputs": [
        {
          "data": {
            "text/html": [
              "<div>\n",
              "<style scoped>\n",
              "    .dataframe tbody tr th:only-of-type {\n",
              "        vertical-align: middle;\n",
              "    }\n",
              "\n",
              "    .dataframe tbody tr th {\n",
              "        vertical-align: top;\n",
              "    }\n",
              "\n",
              "    .dataframe thead th {\n",
              "        text-align: right;\n",
              "    }\n",
              "</style>\n",
              "<table border=\"1\" class=\"dataframe\">\n",
              "  <thead>\n",
              "    <tr style=\"text-align: right;\">\n",
              "      <th></th>\n",
              "      <th>Week</th>\n",
              "      <th>Total Cost</th>\n",
              "      <th>Count</th>\n",
              "    </tr>\n",
              "  </thead>\n",
              "  <tbody>\n",
              "    <tr>\n",
              "      <th>0</th>\n",
              "      <td>1</td>\n",
              "      <td>239.499943</td>\n",
              "      <td>9</td>\n",
              "    </tr>\n",
              "    <tr>\n",
              "      <th>1</th>\n",
              "      <td>2</td>\n",
              "      <td>268.149945</td>\n",
              "      <td>9</td>\n",
              "    </tr>\n",
              "    <tr>\n",
              "      <th>2</th>\n",
              "      <td>3</td>\n",
              "      <td>316.924866</td>\n",
              "      <td>9</td>\n",
              "    </tr>\n",
              "  </tbody>\n",
              "</table>\n",
              "</div>"
            ],
            "text/plain": [
              "   Week  Total Cost  Count\n",
              "0     1  239.499943      9\n",
              "1     2  268.149945      9\n",
              "2     3  316.924866      9"
            ]
          },
          "execution_count": 98,
          "metadata": {},
          "output_type": "execute_result"
        }
      ],
      "source": [
        "df_modified.groupby(['Week','Total Cost']).agg(Count=(\"Order\", \"count\")).reset_index()"
      ]
    },
    {
      "cell_type": "code",
      "execution_count": null,
      "id": "693e8b41",
      "metadata": {
        "id": "693e8b41",
        "outputId": "54bee568-e70a-4e1f-8b03-bb75de24cb4b"
      },
      "outputs": [
        {
          "data": {
            "text/html": [
              "<div>\n",
              "<style scoped>\n",
              "    .dataframe tbody tr th:only-of-type {\n",
              "        vertical-align: middle;\n",
              "    }\n",
              "\n",
              "    .dataframe tbody tr th {\n",
              "        vertical-align: top;\n",
              "    }\n",
              "\n",
              "    .dataframe thead th {\n",
              "        text-align: right;\n",
              "    }\n",
              "</style>\n",
              "<table border=\"1\" class=\"dataframe\">\n",
              "  <thead>\n",
              "    <tr style=\"text-align: right;\">\n",
              "      <th></th>\n",
              "      <th>Week</th>\n",
              "      <th>Hub</th>\n",
              "      <th>Vegetable</th>\n",
              "      <th>Order</th>\n",
              "      <th>Total Cost</th>\n",
              "    </tr>\n",
              "  </thead>\n",
              "  <tbody>\n",
              "    <tr>\n",
              "      <th>0</th>\n",
              "      <td>1</td>\n",
              "      <td>A</td>\n",
              "      <td>Spinach</td>\n",
              "      <td>99.999985</td>\n",
              "      <td>239.499943</td>\n",
              "    </tr>\n",
              "    <tr>\n",
              "      <th>1</th>\n",
              "      <td>1</td>\n",
              "      <td>B</td>\n",
              "      <td>Spinach</td>\n",
              "      <td>79.999982</td>\n",
              "      <td>239.499943</td>\n",
              "    </tr>\n",
              "    <tr>\n",
              "      <th>2</th>\n",
              "      <td>1</td>\n",
              "      <td>C</td>\n",
              "      <td>Spinach</td>\n",
              "      <td>49.999977</td>\n",
              "      <td>239.499943</td>\n",
              "    </tr>\n",
              "    <tr>\n",
              "      <th>3</th>\n",
              "      <td>1</td>\n",
              "      <td>A</td>\n",
              "      <td>Tomatoes</td>\n",
              "      <td>149.999987</td>\n",
              "      <td>239.499943</td>\n",
              "    </tr>\n",
              "    <tr>\n",
              "      <th>4</th>\n",
              "      <td>1</td>\n",
              "      <td>B</td>\n",
              "      <td>Tomatoes</td>\n",
              "      <td>99.999980</td>\n",
              "      <td>239.499943</td>\n",
              "    </tr>\n",
              "  </tbody>\n",
              "</table>\n",
              "</div>"
            ],
            "text/plain": [
              "   Week Hub Vegetable       Order  Total Cost\n",
              "0     1   A   Spinach   99.999985  239.499943\n",
              "1     1   B   Spinach   79.999982  239.499943\n",
              "2     1   C   Spinach   49.999977  239.499943\n",
              "3     1   A  Tomatoes  149.999987  239.499943\n",
              "4     1   B  Tomatoes   99.999980  239.499943"
            ]
          },
          "execution_count": 99,
          "metadata": {},
          "output_type": "execute_result"
        }
      ],
      "source": [
        "df_modified.head()"
      ]
    },
    {
      "cell_type": "code",
      "execution_count": null,
      "id": "f0db8efd",
      "metadata": {
        "id": "f0db8efd"
      },
      "outputs": [],
      "source": []
    }
  ],
  "metadata": {
    "kernelspec": {
      "display_name": "Python 3",
      "language": "python",
      "name": "python3"
    },
    "language_info": {
      "codemirror_mode": {
        "name": "ipython",
        "version": 3
      },
      "file_extension": ".py",
      "mimetype": "text/x-python",
      "name": "python",
      "nbconvert_exporter": "python",
      "pygments_lexer": "ipython3",
      "version": "3.9.11"
    },
    "colab": {
      "provenance": []
    }
  },
  "nbformat": 4,
  "nbformat_minor": 5
}